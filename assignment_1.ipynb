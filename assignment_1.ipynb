{
  "nbformat": 4,
  "nbformat_minor": 0,
  "metadata": {
    "colab": {
      "provenance": []
    },
    "kernelspec": {
      "name": "python3",
      "display_name": "Python 3"
    },
    "language_info": {
      "name": "python"
    }
  },
  "cells": [
    {
      "cell_type": "markdown",
      "source": [
        "# **Basic Question**"
      ],
      "metadata": {
        "id": "IZ5Dan9srD94"
      }
    },
    {
      "cell_type": "markdown",
      "source": [
        "Ques 1. What is Python, and why is it popular?\n",
        "- Python is a high-level, interpreted programming language known for its simple syntax and readability.\n",
        "\n",
        "\n",
        "*  Easy to learn and write\n",
        "*  Large community and support\n",
        "\n",
        "\n",
        "*   Rich libraries and frameworks (like NumPy, Django, Pandas)\n",
        "*   Versatile: used in web development, data science, AI, automation, etc.\n"
      ],
      "metadata": {
        "id": "PTYQXMKKrUG1"
      }
    },
    {
      "cell_type": "markdown",
      "source": [
        "Ques 2.What is an interpreter in Python?\n",
        "- An interpreter is a program that executes Python code line by line.\n",
        "Python code is not compiled into machine code directly—instead, the interpreter reads each line, translates it into bytecode, and then executes it.\n"
      ],
      "metadata": {
        "id": "K4dm1RHSrzDe"
      }
    },
    {
      "cell_type": "markdown",
      "source": [
        "Ques 3. What are pre-defined keywords in Python?\n",
        " - Keywords are reserved words that have special meaning in Python.\n",
        "\n",
        " Examples: if, for, while, def, return, True, False, None\n",
        "They cannot be used as variable names."
      ],
      "metadata": {
        "id": "iIUltuVEr3GK"
      }
    },
    {
      "cell_type": "markdown",
      "source": [
        "Ques 4. Can keywords be used as variable names?\n",
        "- No, keywords cannot be used as variable names.\n",
        "\n",
        "Ques 5. What is mutability in Python?\n",
        "- Mutability refers to whether an object can be changed after it’s created.\n",
        "\n",
        " - Mutable objects: can be modified (like lists, dictionaries)\n",
        "\n",
        " - Immutable objects: cannot be changed (like strings, tuples)"
      ],
      "metadata": {
        "id": "vQFJAqBTr8bK"
      }
    },
    {
      "cell_type": "markdown",
      "source": [
        "Ques 6.  Why are lists mutable, but tuples are immutable ?\n",
        "- Lists are designed to be flexible and changeable: you can add, remove, or modify elements.\n",
        "\n",
        "- Tuples are meant for fixed data that should not change. This immutability makes them hashable and safe to use as dictionary keys."
      ],
      "metadata": {
        "id": "AbZPMfcOsA6p"
      }
    },
    {
      "cell_type": "markdown",
      "source": [
        "Ques 7. What is the difference between “==” and “is” operators in Python?\n",
        "- \"==\" checks if values are equal\n",
        "\n",
        "- \"is\" checks if both variables point to the same object in memory."
      ],
      "metadata": {
        "id": "-jQsNcwfsFm4"
      }
    },
    {
      "cell_type": "markdown",
      "source": [
        "Ques 8.  What are logical operators in Python?\n",
        "- Logical operators are used to combine conditional statements:\n",
        "\n",
        " -  and: True if both conditions are True\n",
        "\n",
        "  - or: True if at least one condition is True\n",
        "\n",
        " - not: Reverses the boolean value."
      ],
      "metadata": {
        "id": "kXuAYoHZsKvn"
      }
    },
    {
      "cell_type": "markdown",
      "source": [
        "Ques 9.  What is type casting in Python ?\n",
        "- Type casting means converting a variable from one data type to another. It is useful when you want to perform operations between different types or match the expected input/output format.\n",
        "\n",
        "- Python supports two types of type casting:\n",
        " -  Implict Type Casting\n",
        "This is automatically done by Python when it converts one data type to another during an operation.\n",
        " - Explicit Type Casting\n",
        "This is done manually by the programmer using functions like int(), float(), str(), etc."
      ],
      "metadata": {
        "id": "unizoldBsQc6"
      }
    },
    {
      "cell_type": "markdown",
      "source": [
        "Ques 10. What is the difference between implicit and explicit type casting ?\n",
        "- Implicit: Python automatically converts the type\n",
        "Example: a = 5 + 3.0 → a becomes float (8.0)\n",
        "\n",
        "- Explicit: You manually convert the type\n",
        "Example: int(\"123\")"
      ],
      "metadata": {
        "id": "ggbeEVXXsg1t"
      }
    },
    {
      "cell_type": "markdown",
      "source": [
        "Ques 11. What is the purpose of conditional statements in Python?\n",
        "- Conditional statements like if, elif, else are used to execute code based on certain conditions.\n",
        "They help the program make decisions."
      ],
      "metadata": {
        "id": "Q8J_GD1luI0q"
      }
    },
    {
      "cell_type": "markdown",
      "source": [
        "Ques 12. How does the elif statement work?\n",
        "- elif (short for “else if”) is used to check multiple conditions.\n",
        "If the if condition is False, Python checks the elif conditions in order."
      ],
      "metadata": {
        "id": "HuKg6vn-uNTF"
      }
    },
    {
      "cell_type": "code",
      "source": [
        "x = 10\n",
        "if x > 20:\n",
        "    print(\"Greater\")\n",
        "elif x == 10:\n",
        "    print(\"Equal\")\n",
        "else:\n",
        "    print(\"Smaller\")"
      ],
      "metadata": {
        "colab": {
          "base_uri": "https://localhost:8080/"
        },
        "id": "65ztJxi9uRvg",
        "outputId": "a7c6ad57-05fb-4744-95a0-c423138b3b89"
      },
      "execution_count": 1,
      "outputs": [
        {
          "output_type": "stream",
          "name": "stdout",
          "text": [
            "Equal\n"
          ]
        }
      ]
    },
    {
      "cell_type": "markdown",
      "source": [
        "Quest 13. What is the difference between for and while loops?\n",
        "- for loop: used when you know how many times you want to run the loop.\n",
        "\n",
        "- while loop: used when you don't know the exact number of repetitions, but run while a condition is true."
      ],
      "metadata": {
        "id": "uKPBd8xhusOc"
      }
    },
    {
      "cell_type": "markdown",
      "source": [
        "Ques 14.  Describe a scenario where a while loop is more suitable than a for loop?\n",
        "\n",
        "- In programming, a while loop is more suitable than a for loop when the number of iterations is not known in advance. The while loop keeps running as long as a certain condition is true, which makes it ideal for situations where the loop should continue until a specific event or user action occurs.\n",
        "\n",
        "- Suppose you are building a program where a user must enter the correct password to log in. You don’t know how many attempts the user will take to enter the correct password. So, you need to keep asking until the correct input is received.\n",
        "\n",
        " In this case, a while loop is the perfect choice."
      ],
      "metadata": {
        "id": "uy4ZhqP1utxc"
      }
    },
    {
      "cell_type": "code",
      "source": [
        "password = \"\"\n",
        "while password != \"pwskills\":\n",
        "    password = input(\"Enter your password: \")\n",
        "print(\"Access granted!\")"
      ],
      "metadata": {
        "colab": {
          "base_uri": "https://localhost:8080/"
        },
        "id": "8xrvM3kUu1QZ",
        "outputId": "86fe6dea-6b4b-426c-de4a-24deed35d3af"
      },
      "execution_count": 2,
      "outputs": [
        {
          "output_type": "stream",
          "name": "stdout",
          "text": [
            "Enter your password: 9966\n",
            "Enter your password: pwskill\n",
            "Enter your password: pwskills\n",
            "Access granted!\n"
          ]
        }
      ]
    },
    {
      "cell_type": "markdown",
      "source": [
        "# **Practical Questions**"
      ],
      "metadata": {
        "id": "7mLyLXB0vGJi"
      }
    },
    {
      "cell_type": "markdown",
      "source": [
        "Ques 1. Write a Python program to print \"Hello, World!\"?\n"
      ],
      "metadata": {
        "id": "N2a0Du8xvObw"
      }
    },
    {
      "cell_type": "code",
      "source": [
        "print(\"Hello, World!\")"
      ],
      "metadata": {
        "colab": {
          "base_uri": "https://localhost:8080/"
        },
        "id": "kseZC_RnvrH5",
        "outputId": "0d448df5-795b-4595-9d7a-223f41dad03f"
      },
      "execution_count": 3,
      "outputs": [
        {
          "output_type": "stream",
          "name": "stdout",
          "text": [
            "Hello, World!\n"
          ]
        }
      ]
    },
    {
      "cell_type": "markdown",
      "source": [
        "Ques 2. Write a Python program that displays your name and age?\n"
      ],
      "metadata": {
        "id": "ZdllSxNIv0sb"
      }
    },
    {
      "cell_type": "code",
      "source": [
        "name = \"Rohan Kumar\"\n",
        "age = 22\n",
        "print(\"Name:\", name)\n",
        "print(\"Age:\", age)\n"
      ],
      "metadata": {
        "colab": {
          "base_uri": "https://localhost:8080/"
        },
        "id": "PVAnlMpFv4nt",
        "outputId": "1b90ff1d-14af-49b2-b28b-f262413af90b"
      },
      "execution_count": 5,
      "outputs": [
        {
          "output_type": "stream",
          "name": "stdout",
          "text": [
            "Name: Rohan Kumar\n",
            "Age: 22\n"
          ]
        }
      ]
    },
    {
      "cell_type": "markdown",
      "source": [
        "Ques 3. Write code to print all the pre-defined keywords in Python using the keyword library?"
      ],
      "metadata": {
        "id": "1sZA24_nwKoE"
      }
    },
    {
      "cell_type": "code",
      "source": [
        "import keyword\n",
        "\n",
        "# Display all Python keywords\n",
        "print(\"Python Keywords are:\")\n",
        "print(keyword.kwlist)\n",
        "\n",
        "\n"
      ],
      "metadata": {
        "colab": {
          "base_uri": "https://localhost:8080/"
        },
        "id": "6LfEMsl5wdQ_",
        "outputId": "01f6d0fd-bb77-4704-ab39-3fc19ce9dca8"
      },
      "execution_count": 6,
      "outputs": [
        {
          "output_type": "stream",
          "name": "stdout",
          "text": [
            "Python Keywords are:\n",
            "['False', 'None', 'True', 'and', 'as', 'assert', 'async', 'await', 'break', 'class', 'continue', 'def', 'del', 'elif', 'else', 'except', 'finally', 'for', 'from', 'global', 'if', 'import', 'in', 'is', 'lambda', 'nonlocal', 'not', 'or', 'pass', 'raise', 'return', 'try', 'while', 'with', 'yield']\n"
          ]
        }
      ]
    },
    {
      "cell_type": "markdown",
      "source": [
        "Ques 4. Write a program that checks if a given word is a Python keyword?\n"
      ],
      "metadata": {
        "id": "OmdukidmwkhV"
      }
    },
    {
      "cell_type": "code",
      "source": [
        "import keyword\n",
        "\n",
        "word = input(\"Enter a word: \")\n",
        "\n",
        "if keyword.iskeyword(word):\n",
        "    print(f\"'{word}' is a Python keyword.\")\n",
        "else:\n",
        "    print(f\"'{word}' is not a Python keyword.\")\n"
      ],
      "metadata": {
        "colab": {
          "base_uri": "https://localhost:8080/"
        },
        "id": "1yYjnqaswmFT",
        "outputId": "07d6c7f9-1a7c-41c7-9053-af86146b77b5"
      },
      "execution_count": 7,
      "outputs": [
        {
          "output_type": "stream",
          "name": "stdout",
          "text": [
            "Enter a word: async\n",
            "'async' is a Python keyword.\n"
          ]
        }
      ]
    },
    {
      "cell_type": "markdown",
      "source": [
        "Quest 5. Write a function to demonstrate the behavior of mutable and immutable arguments?\n"
      ],
      "metadata": {
        "id": "N2EAeNFlxHYz"
      }
    },
    {
      "cell_type": "code",
      "source": [
        "# Immutable example\n",
        "def modify_number(n):\n",
        "    n += 5\n",
        "    print(\"Inside function (immutable):\", n)\n",
        "\n",
        "# Mutable example\n",
        "def modify_list(lst):\n",
        "    lst.append(99)\n",
        "    print(\"Inside function (mutable):\", lst)\n",
        "\n",
        "# Test the functions\n",
        "num = 10\n",
        "my_list = [1, 2, 3]\n",
        "\n",
        "modify_number(num)\n",
        "print(\"Outside function (immutable):\", num)\n",
        "\n",
        "modify_list(my_list)\n",
        "print(\"Outside function (mutable):\", my_list)\n"
      ],
      "metadata": {
        "colab": {
          "base_uri": "https://localhost:8080/"
        },
        "id": "g_w9NU58xI1m",
        "outputId": "e98a2efa-4886-44ed-e72b-0504ecbfbda5"
      },
      "execution_count": 8,
      "outputs": [
        {
          "output_type": "stream",
          "name": "stdout",
          "text": [
            "Inside function (immutable): 15\n",
            "Outside function (immutable): 10\n",
            "Inside function (mutable): [1, 2, 3, 99]\n",
            "Outside function (mutable): [1, 2, 3, 99]\n"
          ]
        }
      ]
    },
    {
      "cell_type": "markdown",
      "source": [
        "Ques 6.  Write a program that performs basic arithmetic operations on two user-input numbers?\n"
      ],
      "metadata": {
        "id": "wnGuipBVxNqB"
      }
    },
    {
      "cell_type": "code",
      "source": [
        "a = float(input(\"Enter first number: \"))\n",
        "b = float(input(\"Enter second number: \"))\n",
        "\n",
        "print(\"Addition:\", a + b)\n",
        "print(\"Subtraction:\", a - b)\n",
        "print(\"Multiplication:\", a * b)\n",
        "print(\"Division:\", a / b)"
      ],
      "metadata": {
        "colab": {
          "base_uri": "https://localhost:8080/"
        },
        "id": "Qz_-I9TVxjoS",
        "outputId": "676a92aa-624a-4bc6-aaa2-323ad074918a"
      },
      "execution_count": 9,
      "outputs": [
        {
          "output_type": "stream",
          "name": "stdout",
          "text": [
            "Enter first number: 32\n",
            "Enter second number: 334\n",
            "Addition: 366.0\n",
            "Subtraction: -302.0\n",
            "Multiplication: 10688.0\n",
            "Division: 0.09580838323353294\n"
          ]
        }
      ]
    },
    {
      "cell_type": "markdown",
      "source": [
        "Ques 7. Write a program to demonstrate the use of logical operators?"
      ],
      "metadata": {
        "id": "WYSwFJ6fxqxz"
      }
    },
    {
      "cell_type": "code",
      "source": [
        "x = 10\n",
        "y = 5\n",
        "\n",
        "print(x > 5 and y < 10)\n",
        "print(x > 15 or y < 10)\n",
        "print(not(x > y))"
      ],
      "metadata": {
        "colab": {
          "base_uri": "https://localhost:8080/"
        },
        "id": "a3MRMMvLxtVU",
        "outputId": "bf568833-69b0-4cb9-b828-9638929002f7"
      },
      "execution_count": 10,
      "outputs": [
        {
          "output_type": "stream",
          "name": "stdout",
          "text": [
            "True\n",
            "True\n",
            "False\n"
          ]
        }
      ]
    },
    {
      "cell_type": "markdown",
      "source": [
        " Quest 8. Create a list and tuple in Python, and demonstrate how attempting to change an element works differently for each"
      ],
      "metadata": {
        "id": "qTgX5qRIx4lJ"
      }
    },
    {
      "cell_type": "code",
      "source": [
        "my_list = [1, 2, 3]\n",
        "my_list[0] = 10\n",
        "print(\"Modified list:\", my_list)\n",
        "\n",
        "# Tuple - immutable\n",
        "my_tuple = (1, 2, 3)\n",
        "print(\"Original tuple:\", my_tuple)"
      ],
      "metadata": {
        "colab": {
          "base_uri": "https://localhost:8080/"
        },
        "id": "xihkCbr3x6N0",
        "outputId": "2226b601-d557-46a0-ed2c-de21aebc9307"
      },
      "execution_count": 11,
      "outputs": [
        {
          "output_type": "stream",
          "name": "stdout",
          "text": [
            "Modified list: [10, 2, 3]\n",
            "Original tuple: (1, 2, 3)\n"
          ]
        }
      ]
    },
    {
      "cell_type": "markdown",
      "source": [
        "Ques 9. Write a Python program to convert user input from string to integer, float, and boolean types?"
      ],
      "metadata": {
        "id": "96jM0Z2KyEYl"
      }
    },
    {
      "cell_type": "code",
      "source": [
        "s = input(\"Enter a number: \")\n",
        "\n",
        "int_val = int(s)\n",
        "float_val = float(s)\n",
        "bool_val = bool(s)\n",
        "\n",
        "print(\"Integer:\", int_val)\n",
        "print(\"Float:\", float_val)\n",
        "print(\"Boolean:\", bool_val)"
      ],
      "metadata": {
        "colab": {
          "base_uri": "https://localhost:8080/"
        },
        "id": "vvvqDGBPyFfK",
        "outputId": "6aee8702-42ca-4219-e917-0d125f8fecae"
      },
      "execution_count": 12,
      "outputs": [
        {
          "output_type": "stream",
          "name": "stdout",
          "text": [
            "Enter a number: 66\n",
            "Integer: 66\n",
            "Float: 66.0\n",
            "Boolean: True\n"
          ]
        }
      ]
    },
    {
      "cell_type": "markdown",
      "source": [
        "Ques 10. Write code to demonstrate type casting with list elements?"
      ],
      "metadata": {
        "id": "ZG3o8RQqyNGb"
      }
    },
    {
      "cell_type": "code",
      "source": [
        "str_list = [\"1\", \"2\", \"3\", \"4\"]\n",
        "\n",
        "int_list = [int(x) for x in str_list]\n",
        "\n",
        "print(\"Original list (strings):\", str_list)\n",
        "print(\"Converted list (integers):\", int_list)\n"
      ],
      "metadata": {
        "colab": {
          "base_uri": "https://localhost:8080/"
        },
        "id": "yF9OIdsxyOSZ",
        "outputId": "aa1a1247-02d5-4a28-ef87-2ce0b2ab5fa0"
      },
      "execution_count": 13,
      "outputs": [
        {
          "output_type": "stream",
          "name": "stdout",
          "text": [
            "Original list (strings): ['1', '2', '3', '4']\n",
            "Converted list (integers): [1, 2, 3, 4]\n"
          ]
        }
      ]
    },
    {
      "cell_type": "markdown",
      "source": [
        "Ques 11. Write a program that checks if a number is positive, negative, or zero"
      ],
      "metadata": {
        "id": "PGev2mbVync1"
      }
    },
    {
      "cell_type": "code",
      "source": [
        "num = float(input(\"Enter a number: \"))\n",
        "\n",
        "if num > 0:\n",
        "    print(\"The number is positive.\")\n",
        "elif num < 0:\n",
        "    print(\"The number is negative.\")\n",
        "else:\n",
        "    print(\"The number is zero.\")\n",
        "\n"
      ],
      "metadata": {
        "colab": {
          "base_uri": "https://localhost:8080/"
        },
        "id": "crXnL61myo7k",
        "outputId": "2b94599b-9065-4c0f-c7f8-367c45901b37"
      },
      "execution_count": 15,
      "outputs": [
        {
          "output_type": "stream",
          "name": "stdout",
          "text": [
            "Enter a number: -66\n",
            "The number is negative.\n"
          ]
        }
      ]
    },
    {
      "cell_type": "markdown",
      "source": [
        "Ques 12. Write a for loop to print numbers from 1 to 10?"
      ],
      "metadata": {
        "id": "0k5ZEs-Hy4Ko"
      }
    },
    {
      "cell_type": "code",
      "source": [
        "for i in range(1, 11):\n",
        "    print(i)\n"
      ],
      "metadata": {
        "colab": {
          "base_uri": "https://localhost:8080/"
        },
        "id": "gq6oehJay5wH",
        "outputId": "7b889c2c-77eb-433d-c6f7-041fa7f9dfc3"
      },
      "execution_count": 16,
      "outputs": [
        {
          "output_type": "stream",
          "name": "stdout",
          "text": [
            "1\n",
            "2\n",
            "3\n",
            "4\n",
            "5\n",
            "6\n",
            "7\n",
            "8\n",
            "9\n",
            "10\n"
          ]
        }
      ]
    },
    {
      "cell_type": "markdown",
      "source": [
        "Ques 13. Write a Python program to find the sum of all even numbers between 1 and 50?"
      ],
      "metadata": {
        "id": "n51X0mI9zBzQ"
      }
    },
    {
      "cell_type": "code",
      "source": [
        "total = 0\n",
        "\n",
        "for i in range(2, 51, 2):\n",
        "    total += i\n",
        "\n",
        "print(\"Sum of even numbers from 1 to 50 is:\", total)\n"
      ],
      "metadata": {
        "colab": {
          "base_uri": "https://localhost:8080/"
        },
        "id": "VWi87XX7zDV7",
        "outputId": "9774b08c-d1bf-445f-adf1-22bfd106746f"
      },
      "execution_count": 17,
      "outputs": [
        {
          "output_type": "stream",
          "name": "stdout",
          "text": [
            "Sum of even numbers from 1 to 50 is: 650\n"
          ]
        }
      ]
    },
    {
      "cell_type": "markdown",
      "source": [
        "Ques 14. Write a program to reverse a string using a while loop?"
      ],
      "metadata": {
        "id": "18UiO9nQzJ0B"
      }
    },
    {
      "cell_type": "code",
      "source": [
        "text = input(\"Enter a string: \")\n",
        "reversed_str = \"\"\n",
        "i = len(text) - 1\n",
        "\n",
        "while i >= 0:\n",
        "    reversed_str += text[i]\n",
        "    i -= 1\n",
        "\n",
        "print(\"Reversed string:\", reversed_str)\n"
      ],
      "metadata": {
        "colab": {
          "base_uri": "https://localhost:8080/"
        },
        "id": "5rNczGxkzK6C",
        "outputId": "01ab12b0-d8b0-480d-ea26-9d5d1992cb74"
      },
      "execution_count": 18,
      "outputs": [
        {
          "output_type": "stream",
          "name": "stdout",
          "text": [
            "Enter a string: ROHAN\n",
            "Reversed string: NAHOR\n"
          ]
        }
      ]
    },
    {
      "cell_type": "markdown",
      "source": [
        "Ques 15. Write a Python program to calculate the factorial of a number provided by the user using a while loop?"
      ],
      "metadata": {
        "id": "CaRc7E3HzTHk"
      }
    },
    {
      "cell_type": "code",
      "source": [
        "num = int(input(\"Enter a number: \"))\n",
        "fact = 1\n",
        "i = 1\n",
        "\n",
        "while i <= num:\n",
        "    fact *= i\n",
        "    i += 1\n",
        "\n",
        "print(f\"Factorial of {num} is:\", fact)\n"
      ],
      "metadata": {
        "colab": {
          "base_uri": "https://localhost:8080/"
        },
        "id": "JgphlDjzzUBm",
        "outputId": "960f6dae-e0ed-454b-f241-1607ee5d5f5d"
      },
      "execution_count": 19,
      "outputs": [
        {
          "output_type": "stream",
          "name": "stdout",
          "text": [
            "Enter a number: 5\n",
            "Factorial of 5 is: 120\n"
          ]
        }
      ]
    }
  ]
}